{
 "cells": [
  {
   "cell_type": "code",
   "execution_count": 3,
   "id": "f313e5a7",
   "metadata": {},
   "outputs": [],
   "source": [
    "#01.12.2022_Метод_Бутстреп\n",
    "import numpy as np\n",
    "import pandas as pd\n",
    "from scipy.stats import norm\n",
    "import matplotlib.pyplot as plt\n",
    "plt.style.use('ggplot')"
   ]
  },
  {
   "cell_type": "code",
   "execution_count": 5,
   "id": "6de6b12e",
   "metadata": {},
   "outputs": [
    {
     "data": {
      "text/html": [
       "<div>\n",
       "<style scoped>\n",
       "    .dataframe tbody tr th:only-of-type {\n",
       "        vertical-align: middle;\n",
       "    }\n",
       "\n",
       "    .dataframe tbody tr th {\n",
       "        vertical-align: top;\n",
       "    }\n",
       "\n",
       "    .dataframe thead th {\n",
       "        text-align: right;\n",
       "    }\n",
       "</style>\n",
       "<table border=\"1\" class=\"dataframe\">\n",
       "  <thead>\n",
       "    <tr style=\"text-align: right;\">\n",
       "      <th></th>\n",
       "      <th>user_id</th>\n",
       "      <th>revenue</th>\n",
       "    </tr>\n",
       "  </thead>\n",
       "  <tbody>\n",
       "    <tr>\n",
       "      <th>0</th>\n",
       "      <td>3428</td>\n",
       "      <td>1085.327464</td>\n",
       "    </tr>\n",
       "    <tr>\n",
       "      <th>1</th>\n",
       "      <td>3184</td>\n",
       "      <td>1085.654927</td>\n",
       "    </tr>\n",
       "    <tr>\n",
       "      <th>2</th>\n",
       "      <td>2393</td>\n",
       "      <td>1087.619709</td>\n",
       "    </tr>\n",
       "    <tr>\n",
       "      <th>3</th>\n",
       "      <td>1766</td>\n",
       "      <td>1088.438368</td>\n",
       "    </tr>\n",
       "    <tr>\n",
       "      <th>4</th>\n",
       "      <td>1093</td>\n",
       "      <td>1092.040468</td>\n",
       "    </tr>\n",
       "    <tr>\n",
       "      <th>...</th>\n",
       "      <td>...</td>\n",
       "      <td>...</td>\n",
       "    </tr>\n",
       "    <tr>\n",
       "      <th>4225</th>\n",
       "      <td>3324</td>\n",
       "      <td>6446.561632</td>\n",
       "    </tr>\n",
       "    <tr>\n",
       "      <th>4226</th>\n",
       "      <td>1683</td>\n",
       "      <td>6447.380291</td>\n",
       "    </tr>\n",
       "    <tr>\n",
       "      <th>4227</th>\n",
       "      <td>959</td>\n",
       "      <td>6447.707755</td>\n",
       "    </tr>\n",
       "    <tr>\n",
       "      <th>4228</th>\n",
       "      <td>504</td>\n",
       "      <td>6449.017609</td>\n",
       "    </tr>\n",
       "    <tr>\n",
       "      <th>4229</th>\n",
       "      <td>418</td>\n",
       "      <td>6450.000000</td>\n",
       "    </tr>\n",
       "  </tbody>\n",
       "</table>\n",
       "<p>4230 rows × 2 columns</p>\n",
       "</div>"
      ],
      "text/plain": [
       "      user_id      revenue\n",
       "0        3428  1085.327464\n",
       "1        3184  1085.654927\n",
       "2        2393  1087.619709\n",
       "3        1766  1088.438368\n",
       "4        1093  1092.040468\n",
       "...       ...          ...\n",
       "4225     3324  6446.561632\n",
       "4226     1683  6447.380291\n",
       "4227      959  6447.707755\n",
       "4228      504  6449.017609\n",
       "4229      418  6450.000000\n",
       "\n",
       "[4230 rows x 2 columns]"
      ]
     },
     "execution_count": 5,
     "metadata": {},
     "output_type": "execute_result"
    }
   ],
   "source": [
    "orders=pd.read_excel('boot.xlsx')\n",
    "orders"
   ]
  },
  {
   "cell_type": "code",
   "execution_count": 6,
   "id": "27f7578c",
   "metadata": {},
   "outputs": [
    {
     "data": {
      "text/plain": [
       "user_id      int64\n",
       "revenue    float64\n",
       "dtype: object"
      ]
     },
     "execution_count": 6,
     "metadata": {},
     "output_type": "execute_result"
    }
   ],
   "source": [
    "orders.dtypes"
   ]
  },
  {
   "cell_type": "code",
   "execution_count": 7,
   "id": "ef35cb02",
   "metadata": {},
   "outputs": [
    {
     "data": {
      "text/plain": [
       "(4230, 2)"
      ]
     },
     "execution_count": 7,
     "metadata": {},
     "output_type": "execute_result"
    }
   ],
   "source": [
    "orders.shape"
   ]
  },
  {
   "cell_type": "code",
   "execution_count": 13,
   "id": "86b89b20",
   "metadata": {},
   "outputs": [
    {
     "name": "stdout",
     "output_type": "stream",
     "text": [
      "Original: 3740.3890325351117, Boot: 3739.821762994049\n"
     ]
    }
   ],
   "source": [
    "boot_it = 2000\n",
    "boot_data = []\n",
    "boot_conf_level = 0.95\n",
    "for i in range(boot_it):\n",
    "    samples = orders['revenue'].sample(len(orders['revenue']), replace = True)\n",
    "    boot_data.append(np.mean(samples))\n",
    "print(f'Original: {np.mean(orders[\"revenue\"])}, Boot: {np.mean(boot_data)}')"
   ]
  },
  {
   "cell_type": "code",
   "execution_count": 14,
   "id": "321ed68e",
   "metadata": {},
   "outputs": [
    {
     "name": "stdout",
     "output_type": "stream",
     "text": [
      "0.025    3694.756423\n",
      "0.975    3787.416098\n",
      "dtype: float64\n"
     ]
    }
   ],
   "source": [
    "#Найдем доверительный интервал\n",
    "left_ci = (1 - boot_conf_level)/2\n",
    "right_ci = 1 - (1 - boot_conf_level) / 2\n",
    "ci = pd.Series(boot_data).quantile([left_ci, right_ci])\n",
    "print(ci)"
   ]
  },
  {
   "cell_type": "code",
   "execution_count": 15,
   "id": "ab9d10b9",
   "metadata": {},
   "outputs": [
    {
     "data": {
      "text/plain": [
       "3694.756423495111"
      ]
     },
     "execution_count": 15,
     "metadata": {},
     "output_type": "execute_result"
    }
   ],
   "source": [
    "np.percentile(boot_data, 2.5)"
   ]
  },
  {
   "cell_type": "code",
   "execution_count": 16,
   "id": "d4d03056",
   "metadata": {},
   "outputs": [
    {
     "data": {
      "image/png": "[encoded data removed]",
      "text/plain": [
       "<Figure size 640x480 with 1 Axes>"
      ]
     },
     "metadata": {},
     "output_type": "display_data"
    }
   ],
   "source": [
    "plt.hist(pd.Series(boot_data), bins = 50)\n",
    "plt.style.use('ggplot')\n",
    "plt.vlines(ci,ymin=0,ymax=50,linestyle='--')\n",
    "plt.xlabel('boot_data')\n",
    "plt.ylabel('frequency')\n",
    "plt.title(\"Histogram of boot_data\")\n",
    "plt.show()"
   ]
  },
  {
   "cell_type": "code",
   "execution_count": 17,
   "id": "0de59e6d",
   "metadata": {},
   "outputs": [
    {
     "name": "stdout",
     "output_type": "stream",
     "text": [
      "Defaulting to user installation because normal site-packages is not writeable"
     ]
    },
    {
     "name": "stderr",
     "output_type": "stream",
     "text": [
      "WARNING: You are using pip version 21.2.3; however, version 22.3.1 is available.\n",
      "You should consider upgrading via the 'C:\\Program Files\\Python39\\python.exe -m pip install --upgrade pip' command.\n"
     ]
    },
    {
     "name": "stdout",
     "output_type": "stream",
     "text": [
      "\n",
      "Collecting bootstrapped\n",
      "  Downloading bootstrapped-0.0.2.tar.gz (11 kB)\n",
      "Requirement already satisfied: matplotlib>=1.5.3 in c:\\users\\st\\appdata\\roaming\\python\\python39\\site-packages (from bootstrapped) (3.5.3)\n",
      "Requirement already satisfied: numpy>=1.11.1 in c:\\users\\st\\appdata\\roaming\\python\\python39\\site-packages (from bootstrapped) (1.23.2)\n",
      "Requirement already satisfied: pandas>=0.18.1 in c:\\users\\st\\appdata\\roaming\\python\\python39\\site-packages (from bootstrapped) (1.4.4)\n",
      "Requirement already satisfied: kiwisolver>=1.0.1 in c:\\users\\st\\appdata\\roaming\\python\\python39\\site-packages (from matplotlib>=1.5.3->bootstrapped) (1.4.4)\n",
      "Requirement already satisfied: pyparsing>=2.2.1 in c:\\users\\st\\appdata\\roaming\\python\\python39\\site-packages (from matplotlib>=1.5.3->bootstrapped) (3.0.9)\n",
      "Requirement already satisfied: python-dateutil>=2.7 in c:\\users\\st\\appdata\\roaming\\python\\python39\\site-packages (from matplotlib>=1.5.3->bootstrapped) (2.8.2)\n",
      "Requirement already satisfied: packaging>=20.0 in c:\\users\\st\\appdata\\roaming\\python\\python39\\site-packages (from matplotlib>=1.5.3->bootstrapped) (21.3)\n",
      "Requirement already satisfied: fonttools>=4.22.0 in c:\\users\\st\\appdata\\roaming\\python\\python39\\site-packages (from matplotlib>=1.5.3->bootstrapped) (4.37.1)\n",
      "Requirement already satisfied: cycler>=0.10 in c:\\users\\st\\appdata\\roaming\\python\\python39\\site-packages (from matplotlib>=1.5.3->bootstrapped) (0.11.0)\n",
      "Requirement already satisfied: pillow>=6.2.0 in c:\\users\\st\\appdata\\roaming\\python\\python39\\site-packages (from matplotlib>=1.5.3->bootstrapped) (9.2.0)\n",
      "Requirement already satisfied: pytz>=2020.1 in c:\\users\\st\\appdata\\roaming\\python\\python39\\site-packages (from pandas>=0.18.1->bootstrapped) (2021.3)\n",
      "Requirement already satisfied: six>=1.5 in c:\\users\\st\\appdata\\roaming\\python\\python39\\site-packages (from python-dateutil>=2.7->matplotlib>=1.5.3->bootstrapped) (1.16.0)\n",
      "Using legacy 'setup.py install' for bootstrapped, since package 'wheel' is not installed.\n",
      "Installing collected packages: bootstrapped\n",
      "    Running setup.py install for bootstrapped: started\n",
      "    Running setup.py install for bootstrapped: finished with status 'done'\n",
      "Successfully installed bootstrapped-0.0.2\n"
     ]
    }
   ],
   "source": [
    "!pip install bootstrapped"
   ]
  },
  {
   "cell_type": "code",
   "execution_count": null,
   "id": "6d8485c8",
   "metadata": {},
   "outputs": [],
   "source": []
  },
  {
   "cell_type": "code",
   "execution_count": null,
   "id": "d1f0f59a",
   "metadata": {},
   "outputs": [],
   "source": []
  },
  {
   "cell_type": "code",
   "execution_count": null,
   "id": "6b88f9c4",
   "metadata": {},
   "outputs": [],
   "source": []
  }
 ],
 "metadata": {
  "kernelspec": {
   "display_name": "Python 3 (ipykernel)",
   "language": "python",
   "name": "python3"
  },
  "language_info": {
   "codemirror_mode": {
    "name": "ipython",
    "version": 3
   },
   "file_extension": ".py",
   "mimetype": "text/x-python",
   "name": "python",
   "nbconvert_exporter": "python",
   "pygments_lexer": "ipython3",
   "version": "3.9.7"
  }
 },
 "nbformat": 4,
 "nbformat_minor": 5
}
